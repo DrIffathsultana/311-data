{
 "cells": [
  {
   "cell_type": "code",
   "execution_count": null,
   "metadata": {},
   "outputs": [],
   "source": []
  },
  {
   "cell_type": "code",
   "execution_count": null,
   "metadata": {
    "lines_to_next_cell": 2
   },
   "outputs": [],
   "source": [
    "\n",
    "\n",
    "import pandas as pd\n",
    "import numpy as np\n",
    "import geopandas as gpd\n",
    "from bokeh.plotting import figure, show, output_file, save\n",
    "from bokeh.layouts import column, row, WidgetBox\n",
    "from bokeh.models import ColumnDataSource, LinearColorMapper, Select, RadioButtonGroup\n",
    "from bokeh.palettes import brewer\n",
    "from bokeh.io import output_notebook, push_notebook\n",
    "\n",
    "from bokeh.application.handlers import FunctionHandler\n",
    "from bokeh.application import Application\n",
    "\n",
    "output_notebook()"
   ]
  },
  {
   "cell_type": "code",
   "execution_count": null,
   "metadata": {
    "lines_to_next_cell": 2
   },
   "outputs": [],
   "source": [
    "\n",
    "\n",
    "nc_map = gpd.read_file('https://data.lacity.org/api/geospatial/fu65-dz2f?method=export&format=GeoJSON')"
   ]
  },
  {
   "cell_type": "code",
   "execution_count": null,
   "metadata": {
    "lines_to_next_cell": 2
   },
   "outputs": [],
   "source": [
    "\n",
    "\n",
    "df_311 = pd.read_csv('https://data.lacity.org/api/views/pvft-t768/rows.csv?accessType=DOWNLbOAD')\n",
    "df_311['CreatedDate1']=pd.to_datetime(df_311['CreatedDate']) "
   ]
  },
  {
   "cell_type": "code",
   "execution_count": null,
   "metadata": {
    "lines_to_next_cell": 2
   },
   "outputs": [],
   "source": [
    "\n",
    "\n",
    "df_311_2018 = pd.read_csv('https://data.lacity.org/api/views/h65r-yf5i/rows.csv?accessType=DOWNLOAD')\n",
    "df_311_2018['CreatedDate1'] = pd.to_datetime(df_311_2018['CreatedDate'])"
   ]
  },
  {
   "cell_type": "code",
   "execution_count": null,
   "metadata": {
    "lines_to_next_cell": 2
   },
   "outputs": [],
   "source": [
    "\n",
    "\n",
    "def modify_doc(doc):\n",
    "    \n",
    "    def trimmer(dataframe):\n",
    "        dataframe['NCName'] = dataframe['NCName'].astype(str)\n",
    "        return dataframe[['Latitude','Longitude','NCName','CreatedDate1','RequestType']]\n",
    "    \n",
    "    def month_convert(dataframe):\n",
    "        dataframe['Month'] = dataframe['CreatedDate1'].dt.month\n",
    "        return dataframe\n",
    "    \n",
    "    def monthly_call_volume(dataframe, month):\n",
    "        new_df = dataframe.loc[(dataframe['Month'] == month)].groupby('NCName').agg('count')\n",
    "        new_df = new_df.reset_index()\n",
    "    \n",
    "        new_df.rename({'NCName':'name','CreatedDate1':'Calls'},axis=1,inplace=True)\n",
    "        new_df.drop(['Latitude','Longitude','Month','RequestType'],axis=1,inplace=True)\n",
    "    \n",
    "        return new_df\n",
    "    \n",
    "    def geomerger(geo_file, dataframe):\n",
    "        fusion = geo_file.merge(dataframe,on='name')\n",
    "        return fusion\n",
    "    \n",
    "    def column_data_source_maker(geo_data_frame):\n",
    "        def getPolyCoords(row, geom, coord_type):\n",
    "            exterior = row[geom][0].exterior\n",
    "            if coord_type == 'x':\n",
    "                return list( exterior.coords.xy[0] )\n",
    "            elif coord_type == 'y':\n",
    "                return list( exterior.coords.xy[1] )\n",
    "    \n",
    "        geo_data_frame['x'] = geo_data_frame.apply(getPolyCoords, geom='geometry', coord_type='x', axis=1)\n",
    "        geo_data_frame['y'] = geo_data_frame.apply(getPolyCoords, geom='geometry', coord_type='y', axis=1)\n",
    "    \n",
    "        geo_data_frame.drop('geometry',axis=1,inplace=True)\n",
    "        new_column_source = ColumnDataSource(geo_data_frame)\n",
    "        return new_column_source\n",
    "    \n",
    "    def update(attr,old,new):\n",
    "        if radio_button.active == 1:\n",
    "            new = monthly_call_volume(month_convert(trimmer(df_311)),month_to_num[select.value])\n",
    "            new_geo = geomerger(nc_map,new)\n",
    "            newly = column_data_source_maker(new_geo)\n",
    "            nsource.data.update(newly.data)\n",
    "        else:\n",
    "            new = monthly_call_volume(month_convert(trimmer(df_311_2018)),month_to_num[select.value])\n",
    "            new_geo = geomerger(nc_map,new)\n",
    "            newly = column_data_source_maker(new_geo)\n",
    "            nsource.data.update(newly.data)\n",
    "        push_notebook()\n",
    "    \n",
    "    TOOLTIPS = [('Neighborhood Council Name','@name'),('Call Volume','@Calls')]\n",
    "    p1 = figure(title=\"Monthly 2018 & 2019 311 Call Volume by Neighborhood Council\",tools='hover, pan, tap, wheel_zoom',\n",
    "                tooltips=TOOLTIPS)\n",
    "    \n",
    "    palette = brewer['YlGnBu'][8]\n",
    "    palette = palette[::-1]\n",
    "    \n",
    "    color_mapper = LinearColorMapper(palette = palette, low = 0, high = 3000)\n",
    "    \n",
    "    nsource = column_data_source_maker(geomerger(nc_map,monthly_call_volume(month_convert(trimmer(df_311)),5)))\n",
    "    p1.patches('x', 'y', source=nsource,fill_color = {'field' :'Calls', 'transform' : color_mapper},\n",
    "        line_color=\"black\", line_width=0.05)\n",
    "    \n",
    "    radio_button = RadioButtonGroup(labels=['2018','2019'], active=1)\n",
    "    radio_button.on_click(update)\n",
    "    \n",
    "    select = Select(title=\"Month\", value='May',options=['January',\"February\",\"March\",\"April\",\"May\",\"June\",\n",
    "                                                        \"July\",\"August\",\"September\"])\n",
    "    month_to_num = {'January': 1,'February': 2, 'March': 3, 'April': 4, 'May': 5, 'June': 6, 'July' : 7, 'August' : 8, \n",
    "               'September': 9, 'October': 10, 'November': 11, 'December': 12}\n",
    "    select.on_change('value',update)\n",
    "    \n",
    "    controls = WidgetBox(radio_button,select)\n",
    "    layout = row(controls,p1)\n",
    "    doc.add_root(layout)"
   ]
  },
  {
   "cell_type": "code",
   "execution_count": null,
   "metadata": {
    "lines_to_next_cell": 2
   },
   "outputs": [],
   "source": [
    "\n",
    "\n",
    "handler = FunctionHandler(modify_doc)\n",
    "app = Application(handler)"
   ]
  },
  {
   "cell_type": "code",
   "execution_count": null,
   "metadata": {
    "lines_to_next_cell": 2
   },
   "outputs": [],
   "source": [
    "\n",
    "\n",
    "show(app, notebook_url=\"http://localhost:8888\")"
   ]
  },
  {
   "cell_type": "code",
   "execution_count": null,
   "metadata": {
    "lines_to_next_cell": 2
   },
   "outputs": [],
   "source": [
    "\n",
    "\n"
   ]
  }
 ],
 "metadata": {
  "jupytext": {
   "cell_metadata_filter": "-all",
   "encoding": "# coding: utf-8",
   "executable": "/usr/bin/env python",
   "main_language": "python",
   "notebook_metadata_filter": "-all"
  }
 },
 "nbformat": 4,
 "nbformat_minor": 2
}
